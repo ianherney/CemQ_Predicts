{
  "cells": [
    {
      "cell_type": "code",
      "source": [
        "from sklearn.model_selection import train_test_split\n",
        "from sklearn.compose import make_column_transformer\n",
        "from sklearn.preprocessing import OneHotEncoder\n",
        "from sklearn.pipeline import make_pipeline\n",
        "from sklearn.linear_model import LinearRegression\n",
        "from sklearn.metrics import mean_squared_error\n",
        "from sklearn.ensemble import ( GradientBoostingRegressor, RandomForestRegressor)\n",
        "from sklearn.metrics import mean_squared_error"
      ],
      "metadata": {
        "id": "4xpWxJvhAVxp"
      },
      "id": "4xpWxJvhAVxp",
      "execution_count": 20,
      "outputs": []
    },
    {
      "cell_type": "code",
      "source": [
        "!pip install mlflow ngrok"
      ],
      "metadata": {
        "colab": {
          "base_uri": "https://localhost:8080/"
        },
        "id": "uL_p-nUm2pnj",
        "outputId": "11e19b61-2968-48ed-b52f-155d2f1f4017"
      },
      "id": "uL_p-nUm2pnj",
      "execution_count": 2,
      "outputs": [
        {
          "output_type": "stream",
          "name": "stdout",
          "text": [
            "Collecting mlflow\n",
            "  Downloading mlflow-2.8.1-py3-none-any.whl (19.0 MB)\n",
            "\u001b[2K     \u001b[90m━━━━━━━━━━━━━━━━━━━━━━━━━━━━━━━━━━━━━━━━\u001b[0m \u001b[32m19.0/19.0 MB\u001b[0m \u001b[31m34.0 MB/s\u001b[0m eta \u001b[36m0:00:00\u001b[0m\n",
            "\u001b[?25hCollecting ngrok\n",
            "  Downloading ngrok-0.12.1-cp37-abi3-manylinux_2_17_x86_64.manylinux2014_x86_64.whl (2.9 MB)\n",
            "\u001b[2K     \u001b[90m━━━━━━━━━━━━━━━━━━━━━━━━━━━━━━━━━━━━━━━━\u001b[0m \u001b[32m2.9/2.9 MB\u001b[0m \u001b[31m52.3 MB/s\u001b[0m eta \u001b[36m0:00:00\u001b[0m\n",
            "\u001b[?25hRequirement already satisfied: click<9,>=7.0 in /usr/local/lib/python3.10/dist-packages (from mlflow) (8.1.7)\n",
            "Requirement already satisfied: cloudpickle<3 in /usr/local/lib/python3.10/dist-packages (from mlflow) (2.2.1)\n",
            "Collecting databricks-cli<1,>=0.8.7 (from mlflow)\n",
            "  Downloading databricks_cli-0.18.0-py2.py3-none-any.whl (150 kB)\n",
            "\u001b[2K     \u001b[90m━━━━━━━━━━━━━━━━━━━━━━━━━━━━━━━━━━━━━━━━\u001b[0m \u001b[32m150.3/150.3 kB\u001b[0m \u001b[31m14.8 MB/s\u001b[0m eta \u001b[36m0:00:00\u001b[0m\n",
            "\u001b[?25hRequirement already satisfied: entrypoints<1 in /usr/local/lib/python3.10/dist-packages (from mlflow) (0.4)\n",
            "Collecting gitpython<4,>=2.1.0 (from mlflow)\n",
            "  Downloading GitPython-3.1.40-py3-none-any.whl (190 kB)\n",
            "\u001b[2K     \u001b[90m━━━━━━━━━━━━━━━━━━━━━━━━━━━━━━━━━━━━━━━━\u001b[0m \u001b[32m190.6/190.6 kB\u001b[0m \u001b[31m20.1 MB/s\u001b[0m eta \u001b[36m0:00:00\u001b[0m\n",
            "\u001b[?25hRequirement already satisfied: pyyaml<7,>=5.1 in /usr/local/lib/python3.10/dist-packages (from mlflow) (6.0.1)\n",
            "Requirement already satisfied: protobuf<5,>=3.12.0 in /usr/local/lib/python3.10/dist-packages (from mlflow) (3.20.3)\n",
            "Requirement already satisfied: pytz<2024 in /usr/local/lib/python3.10/dist-packages (from mlflow) (2023.3.post1)\n",
            "Requirement already satisfied: requests<3,>=2.17.3 in /usr/local/lib/python3.10/dist-packages (from mlflow) (2.31.0)\n",
            "Requirement already satisfied: packaging<24 in /usr/local/lib/python3.10/dist-packages (from mlflow) (23.2)\n",
            "Requirement already satisfied: importlib-metadata!=4.7.0,<7,>=3.7.0 in /usr/local/lib/python3.10/dist-packages (from mlflow) (6.8.0)\n",
            "Requirement already satisfied: sqlparse<1,>=0.4.0 in /usr/local/lib/python3.10/dist-packages (from mlflow) (0.4.4)\n",
            "Collecting alembic!=1.10.0,<2 (from mlflow)\n",
            "  Downloading alembic-1.13.0-py3-none-any.whl (230 kB)\n",
            "\u001b[2K     \u001b[90m━━━━━━━━━━━━━━━━━━━━━━━━━━━━━━━━━━━━━━━━\u001b[0m \u001b[32m230.6/230.6 kB\u001b[0m \u001b[31m19.4 MB/s\u001b[0m eta \u001b[36m0:00:00\u001b[0m\n",
            "\u001b[?25hCollecting docker<7,>=4.0.0 (from mlflow)\n",
            "  Downloading docker-6.1.3-py3-none-any.whl (148 kB)\n",
            "\u001b[2K     \u001b[90m━━━━━━━━━━━━━━━━━━━━━━━━━━━━━━━━━━━━━━━━\u001b[0m \u001b[32m148.1/148.1 kB\u001b[0m \u001b[31m17.3 MB/s\u001b[0m eta \u001b[36m0:00:00\u001b[0m\n",
            "\u001b[?25hRequirement already satisfied: Flask<4 in /usr/local/lib/python3.10/dist-packages (from mlflow) (2.2.5)\n",
            "Requirement already satisfied: numpy<2 in /usr/local/lib/python3.10/dist-packages (from mlflow) (1.23.5)\n",
            "Requirement already satisfied: scipy<2 in /usr/local/lib/python3.10/dist-packages (from mlflow) (1.11.4)\n",
            "Requirement already satisfied: pandas<3 in /usr/local/lib/python3.10/dist-packages (from mlflow) (1.5.3)\n",
            "Collecting querystring-parser<2 (from mlflow)\n",
            "  Downloading querystring_parser-1.2.4-py2.py3-none-any.whl (7.9 kB)\n",
            "Requirement already satisfied: sqlalchemy<3,>=1.4.0 in /usr/local/lib/python3.10/dist-packages (from mlflow) (2.0.23)\n",
            "Requirement already satisfied: scikit-learn<2 in /usr/local/lib/python3.10/dist-packages (from mlflow) (1.2.2)\n",
            "Requirement already satisfied: pyarrow<15,>=4.0.0 in /usr/local/lib/python3.10/dist-packages (from mlflow) (9.0.0)\n",
            "Requirement already satisfied: markdown<4,>=3.3 in /usr/local/lib/python3.10/dist-packages (from mlflow) (3.5.1)\n",
            "Requirement already satisfied: matplotlib<4 in /usr/local/lib/python3.10/dist-packages (from mlflow) (3.7.1)\n",
            "Collecting gunicorn<22 (from mlflow)\n",
            "  Downloading gunicorn-21.2.0-py3-none-any.whl (80 kB)\n",
            "\u001b[2K     \u001b[90m━━━━━━━━━━━━━━━━━━━━━━━━━━━━━━━━━━━━━━━━\u001b[0m \u001b[32m80.2/80.2 kB\u001b[0m \u001b[31m10.3 MB/s\u001b[0m eta \u001b[36m0:00:00\u001b[0m\n",
            "\u001b[?25hRequirement already satisfied: Jinja2<4,>=2.11 in /usr/local/lib/python3.10/dist-packages (from mlflow) (3.1.2)\n",
            "Collecting Mako (from alembic!=1.10.0,<2->mlflow)\n",
            "  Downloading Mako-1.3.0-py3-none-any.whl (78 kB)\n",
            "\u001b[2K     \u001b[90m━━━━━━━━━━━━━━━━━━━━━━━━━━━━━━━━━━━━━━━━\u001b[0m \u001b[32m78.6/78.6 kB\u001b[0m \u001b[31m8.8 MB/s\u001b[0m eta \u001b[36m0:00:00\u001b[0m\n",
            "\u001b[?25hRequirement already satisfied: typing-extensions>=4 in /usr/local/lib/python3.10/dist-packages (from alembic!=1.10.0,<2->mlflow) (4.5.0)\n",
            "Requirement already satisfied: pyjwt>=1.7.0 in /usr/lib/python3/dist-packages (from databricks-cli<1,>=0.8.7->mlflow) (2.3.0)\n",
            "Requirement already satisfied: oauthlib>=3.1.0 in /usr/local/lib/python3.10/dist-packages (from databricks-cli<1,>=0.8.7->mlflow) (3.2.2)\n",
            "Requirement already satisfied: tabulate>=0.7.7 in /usr/local/lib/python3.10/dist-packages (from databricks-cli<1,>=0.8.7->mlflow) (0.9.0)\n",
            "Requirement already satisfied: six>=1.10.0 in /usr/local/lib/python3.10/dist-packages (from databricks-cli<1,>=0.8.7->mlflow) (1.16.0)\n",
            "Requirement already satisfied: urllib3<3,>=1.26.7 in /usr/local/lib/python3.10/dist-packages (from databricks-cli<1,>=0.8.7->mlflow) (2.0.7)\n",
            "Requirement already satisfied: websocket-client>=0.32.0 in /usr/local/lib/python3.10/dist-packages (from docker<7,>=4.0.0->mlflow) (1.6.4)\n",
            "Requirement already satisfied: Werkzeug>=2.2.2 in /usr/local/lib/python3.10/dist-packages (from Flask<4->mlflow) (3.0.1)\n",
            "Requirement already satisfied: itsdangerous>=2.0 in /usr/local/lib/python3.10/dist-packages (from Flask<4->mlflow) (2.1.2)\n",
            "Collecting gitdb<5,>=4.0.1 (from gitpython<4,>=2.1.0->mlflow)\n",
            "  Downloading gitdb-4.0.11-py3-none-any.whl (62 kB)\n",
            "\u001b[2K     \u001b[90m━━━━━━━━━━━━━━━━━━━━━━━━━━━━━━━━━━━━━━━━\u001b[0m \u001b[32m62.7/62.7 kB\u001b[0m \u001b[31m8.4 MB/s\u001b[0m eta \u001b[36m0:00:00\u001b[0m\n",
            "\u001b[?25hRequirement already satisfied: zipp>=0.5 in /usr/local/lib/python3.10/dist-packages (from importlib-metadata!=4.7.0,<7,>=3.7.0->mlflow) (3.17.0)\n",
            "Requirement already satisfied: MarkupSafe>=2.0 in /usr/local/lib/python3.10/dist-packages (from Jinja2<4,>=2.11->mlflow) (2.1.3)\n",
            "Requirement already satisfied: contourpy>=1.0.1 in /usr/local/lib/python3.10/dist-packages (from matplotlib<4->mlflow) (1.2.0)\n",
            "Requirement already satisfied: cycler>=0.10 in /usr/local/lib/python3.10/dist-packages (from matplotlib<4->mlflow) (0.12.1)\n",
            "Requirement already satisfied: fonttools>=4.22.0 in /usr/local/lib/python3.10/dist-packages (from matplotlib<4->mlflow) (4.45.1)\n",
            "Requirement already satisfied: kiwisolver>=1.0.1 in /usr/local/lib/python3.10/dist-packages (from matplotlib<4->mlflow) (1.4.5)\n",
            "Requirement already satisfied: pillow>=6.2.0 in /usr/local/lib/python3.10/dist-packages (from matplotlib<4->mlflow) (9.4.0)\n",
            "Requirement already satisfied: pyparsing>=2.3.1 in /usr/local/lib/python3.10/dist-packages (from matplotlib<4->mlflow) (3.1.1)\n",
            "Requirement already satisfied: python-dateutil>=2.7 in /usr/local/lib/python3.10/dist-packages (from matplotlib<4->mlflow) (2.8.2)\n",
            "Requirement already satisfied: charset-normalizer<4,>=2 in /usr/local/lib/python3.10/dist-packages (from requests<3,>=2.17.3->mlflow) (3.3.2)\n",
            "Requirement already satisfied: idna<4,>=2.5 in /usr/local/lib/python3.10/dist-packages (from requests<3,>=2.17.3->mlflow) (3.6)\n",
            "Requirement already satisfied: certifi>=2017.4.17 in /usr/local/lib/python3.10/dist-packages (from requests<3,>=2.17.3->mlflow) (2023.11.17)\n",
            "Requirement already satisfied: joblib>=1.1.1 in /usr/local/lib/python3.10/dist-packages (from scikit-learn<2->mlflow) (1.3.2)\n",
            "Requirement already satisfied: threadpoolctl>=2.0.0 in /usr/local/lib/python3.10/dist-packages (from scikit-learn<2->mlflow) (3.2.0)\n",
            "Requirement already satisfied: greenlet!=0.4.17 in /usr/local/lib/python3.10/dist-packages (from sqlalchemy<3,>=1.4.0->mlflow) (3.0.1)\n",
            "Collecting smmap<6,>=3.0.1 (from gitdb<5,>=4.0.1->gitpython<4,>=2.1.0->mlflow)\n",
            "  Downloading smmap-5.0.1-py3-none-any.whl (24 kB)\n",
            "Installing collected packages: smmap, querystring-parser, ngrok, Mako, gunicorn, gitdb, docker, databricks-cli, alembic, gitpython, mlflow\n",
            "Successfully installed Mako-1.3.0 alembic-1.13.0 databricks-cli-0.18.0 docker-6.1.3 gitdb-4.0.11 gitpython-3.1.40 gunicorn-21.2.0 mlflow-2.8.1 ngrok-0.12.1 querystring-parser-1.2.4 smmap-5.0.1\n"
          ]
        }
      ]
    },
    {
      "cell_type": "code",
      "source": [
        "!pip install optuna optuna-dashboard"
      ],
      "metadata": {
        "colab": {
          "base_uri": "https://localhost:8080/"
        },
        "id": "-hkP0d-LGOQp",
        "outputId": "4d37940d-dbe0-425e-97ec-9dfaf0b51a35"
      },
      "id": "-hkP0d-LGOQp",
      "execution_count": 46,
      "outputs": [
        {
          "output_type": "stream",
          "name": "stdout",
          "text": [
            "Collecting optuna\n",
            "  Downloading optuna-3.4.0-py3-none-any.whl (409 kB)\n",
            "\u001b[2K     \u001b[90m━━━━━━━━━━━━━━━━━━━━━━━━━━━━━━━━━━━━━━━━\u001b[0m \u001b[32m409.6/409.6 kB\u001b[0m \u001b[31m6.9 MB/s\u001b[0m eta \u001b[36m0:00:00\u001b[0m\n",
            "\u001b[?25hCollecting optuna-dashboard\n",
            "  Downloading optuna_dashboard-0.13.0-py3-none-any.whl (5.8 MB)\n",
            "\u001b[2K     \u001b[90m━━━━━━━━━━━━━━━━━━━━━━━━━━━━━━━━━━━━━━━━\u001b[0m \u001b[32m5.8/5.8 MB\u001b[0m \u001b[31m44.3 MB/s\u001b[0m eta \u001b[36m0:00:00\u001b[0m\n",
            "\u001b[?25hRequirement already satisfied: alembic>=1.5.0 in /usr/local/lib/python3.10/dist-packages (from optuna) (1.13.0)\n",
            "Collecting colorlog (from optuna)\n",
            "  Downloading colorlog-6.8.0-py3-none-any.whl (11 kB)\n",
            "Requirement already satisfied: numpy in /usr/local/lib/python3.10/dist-packages (from optuna) (1.23.5)\n",
            "Requirement already satisfied: packaging>=20.0 in /usr/local/lib/python3.10/dist-packages (from optuna) (23.2)\n",
            "Requirement already satisfied: sqlalchemy>=1.3.0 in /usr/local/lib/python3.10/dist-packages (from optuna) (2.0.23)\n",
            "Requirement already satisfied: tqdm in /usr/local/lib/python3.10/dist-packages (from optuna) (4.66.1)\n",
            "Requirement already satisfied: PyYAML in /usr/local/lib/python3.10/dist-packages (from optuna) (6.0.1)\n",
            "Collecting bottle (from optuna-dashboard)\n",
            "  Downloading bottle-0.12.25-py3-none-any.whl (90 kB)\n",
            "\u001b[2K     \u001b[90m━━━━━━━━━━━━━━━━━━━━━━━━━━━━━━━━━━━━━━━━\u001b[0m \u001b[32m90.2/90.2 kB\u001b[0m \u001b[31m11.2 MB/s\u001b[0m eta \u001b[36m0:00:00\u001b[0m\n",
            "\u001b[?25hRequirement already satisfied: scikit-learn in /usr/local/lib/python3.10/dist-packages (from optuna-dashboard) (1.2.2)\n",
            "Requirement already satisfied: Mako in /usr/local/lib/python3.10/dist-packages (from alembic>=1.5.0->optuna) (1.3.0)\n",
            "Requirement already satisfied: typing-extensions>=4 in /usr/local/lib/python3.10/dist-packages (from alembic>=1.5.0->optuna) (4.5.0)\n",
            "Requirement already satisfied: greenlet!=0.4.17 in /usr/local/lib/python3.10/dist-packages (from sqlalchemy>=1.3.0->optuna) (3.0.1)\n",
            "Requirement already satisfied: scipy>=1.3.2 in /usr/local/lib/python3.10/dist-packages (from scikit-learn->optuna-dashboard) (1.11.4)\n",
            "Requirement already satisfied: joblib>=1.1.1 in /usr/local/lib/python3.10/dist-packages (from scikit-learn->optuna-dashboard) (1.3.2)\n",
            "Requirement already satisfied: threadpoolctl>=2.0.0 in /usr/local/lib/python3.10/dist-packages (from scikit-learn->optuna-dashboard) (3.2.0)\n",
            "Requirement already satisfied: MarkupSafe>=0.9.2 in /usr/local/lib/python3.10/dist-packages (from Mako->alembic>=1.5.0->optuna) (2.1.3)\n",
            "Installing collected packages: bottle, colorlog, optuna, optuna-dashboard\n",
            "Successfully installed bottle-0.12.25 colorlog-6.8.0 optuna-3.4.0 optuna-dashboard-0.13.0\n"
          ]
        }
      ]
    },
    {
      "cell_type": "code",
      "execution_count": 3,
      "id": "bcee7ff9-30f7-45e3-9848-bcd6eb4f9f57",
      "metadata": {
        "id": "bcee7ff9-30f7-45e3-9848-bcd6eb4f9f57"
      },
      "outputs": [],
      "source": [
        "import pandas as pd\n",
        "import mlflow\n",
        "import os"
      ]
    },
    {
      "cell_type": "code",
      "execution_count": 4,
      "id": "e88551f7-b511-4f9b-a0a1-ca5924b50c46",
      "metadata": {
        "id": "e88551f7-b511-4f9b-a0a1-ca5924b50c46"
      },
      "outputs": [],
      "source": [
        "command = \"\"\"\n",
        "mlflow server \\\n",
        "        --backend-store-uri sqlite:///tracking.db \\\n",
        "        --default-artifact-root file:mlruns \\\n",
        "        -p 5000 &\n",
        "\"\"\"\n",
        "get_ipython().system_raw(command)"
      ]
    },
    {
      "cell_type": "code",
      "execution_count": null,
      "id": "68b46c1c-94b6-4e3c-8453-74cc5469f138",
      "metadata": {
        "id": "68b46c1c-94b6-4e3c-8453-74cc5469f138"
      },
      "outputs": [],
      "source": [
        "token = \"\" # Agregue el token dentro de las comillas\n",
        "os.environ[\"NGROK_TOKEN\"] = token"
      ]
    },
    {
      "cell_type": "code",
      "execution_count": null,
      "id": "ec59c3bb-9f16-4997-8916-f9a7f936a632",
      "metadata": {
        "id": "ec59c3bb-9f16-4997-8916-f9a7f936a632",
        "outputId": "7939980c-a09f-416a-8c2a-73f0b0d2ba70"
      },
      "outputs": [
        {
          "name": "stdout",
          "output_type": "stream",
          "text": [
            "Authtoken saved to configuration file: /home/lenovo/.config/ngrok/ngrok.yml                         \n"
          ]
        }
      ],
      "source": [
        "!ngrok authtoken $NGROK_TOKEN"
      ]
    },
    {
      "cell_type": "code",
      "execution_count": null,
      "id": "ae7b2d6e-05cc-455b-877d-13e233c3c8b4",
      "metadata": {
        "id": "ae7b2d6e-05cc-455b-877d-13e233c3c8b4"
      },
      "outputs": [],
      "source": [
        "from pyngrok import ngrok\n",
        "ngrok.connect(5000, \"http\")"
      ]
    },
    {
      "cell_type": "code",
      "source": [
        "mlflow.set_tracking_uri(\"http://localhost:5000\")"
      ],
      "metadata": {
        "id": "ijqbRFc13OgK"
      },
      "id": "ijqbRFc13OgK",
      "execution_count": 16,
      "outputs": []
    },
    {
      "cell_type": "code",
      "execution_count": 18,
      "id": "68095efe-d403-41f9-9a63-1f47ed7eac5d",
      "metadata": {
        "id": "68095efe-d403-41f9-9a63-1f47ed7eac5d"
      },
      "outputs": [],
      "source": [
        "exp_id = mlflow.create_experiment(name=\"PS_1D\", artifact_location=\"mlruns/\")"
      ]
    },
    {
      "cell_type": "code",
      "source": [],
      "metadata": {
        "colab": {
          "base_uri": "https://localhost:8080/",
          "height": 35
        },
        "id": "vvYGUU3K9toA",
        "outputId": "6d06b2ad-0cbd-428c-a2b8-f2a5b04154a3"
      },
      "id": "vvYGUU3K9toA",
      "execution_count": 13,
      "outputs": [
        {
          "output_type": "execute_result",
          "data": {
            "text/plain": [
              "'2'"
            ],
            "application/vnd.google.colaboratory.intrinsic+json": {
              "type": "string"
            }
          },
          "metadata": {},
          "execution_count": 13
        }
      ]
    },
    {
      "cell_type": "code",
      "execution_count": 22,
      "id": "5a3fffa9-d423-425f-8797-c5389f5225cd",
      "metadata": {
        "id": "5a3fffa9-d423-425f-8797-c5389f5225cd"
      },
      "outputs": [],
      "source": [
        "df_R1 = pd.read_csv(\"/content/data_R1.csv\")"
      ]
    },
    {
      "cell_type": "code",
      "execution_count": 23,
      "id": "ddc33250-9f84-49d2-b942-f320b218720a",
      "metadata": {
        "id": "ddc33250-9f84-49d2-b942-f320b218720a"
      },
      "outputs": [],
      "source": [
        "df_R1[['Sortname','Location']] = df_R1[['Sortname','Location']].astype('category')"
      ]
    },
    {
      "cell_type": "code",
      "execution_count": 24,
      "id": "a38df1a2-5770-4681-90e9-eab0434d3834",
      "metadata": {
        "colab": {
          "base_uri": "https://localhost:8080/"
        },
        "id": "a38df1a2-5770-4681-90e9-eab0434d3834",
        "outputId": "b68c43b0-9b7c-44fb-9cae-82b10e0a138a"
      },
      "outputs": [
        {
          "output_type": "stream",
          "name": "stdout",
          "text": [
            "<class 'pandas.core.frame.DataFrame'>\n",
            "RangeIndex: 1562 entries, 0 to 1561\n",
            "Data columns (total 24 columns):\n",
            " #   Column        Non-Null Count  Dtype   \n",
            "---  ------        --------------  -----   \n",
            " 0   Start Time    1562 non-null   object  \n",
            " 1   Sortname      1562 non-null   category\n",
            " 2   Location      1562 non-null   category\n",
            " 3   CaO_AVG       1562 non-null   float64 \n",
            " 4   SiO2_AVG      1562 non-null   float64 \n",
            " 5   Al2O3_AVG     1562 non-null   float64 \n",
            " 6   Fe2O3_AVG     1562 non-null   float64 \n",
            " 7   MgO_AVG       1562 non-null   float64 \n",
            " 8   NO.SO3.P_AVG  1562 non-null   float64 \n",
            " 9   Na2O.P_AVG    1562 non-null   float64 \n",
            " 10  K2O.P_AVG     1562 non-null   float64 \n",
            " 11  TiO2_AVG      1562 non-null   float64 \n",
            " 12  P2O5_AVG      1562 non-null   float64 \n",
            " 13  Mn2O3_AVG     1562 non-null   float64 \n",
            " 14  Cl_AVG        1562 non-null   float64 \n",
            " 15  Cr2O3_AVG     1562 non-null   float64 \n",
            " 16  LOI.P_AVG     1562 non-null   float64 \n",
            " 17  NO.R45_AVG    1562 non-null   float64 \n",
            " 18  WC_AVG        1562 non-null   float64 \n",
            " 19  WR_AVG        1562 non-null   float64 \n",
            " 20  SETINI_AVG    1562 non-null   int64   \n",
            " 21  SETFIN_AVG    1562 non-null   int64   \n",
            " 22  FLOW_AVG      1562 non-null   float64 \n",
            " 23  R1            1562 non-null   float64 \n",
            "dtypes: category(2), float64(19), int64(2), object(1)\n",
            "memory usage: 272.1+ KB\n"
          ]
        }
      ],
      "source": [
        "df_R1.info()"
      ]
    },
    {
      "cell_type": "code",
      "execution_count": 25,
      "id": "5a72562e-7cbc-4bb8-8b1f-369eeabe875b",
      "metadata": {
        "id": "5a72562e-7cbc-4bb8-8b1f-369eeabe875b"
      },
      "outputs": [],
      "source": [
        "features = df_R1.drop(['Start Time','R1'], axis = 1)\n",
        "labels = df_R1['R1']"
      ]
    },
    {
      "cell_type": "code",
      "execution_count": 26,
      "id": "1c7fe2d0-0a94-4524-b9df-e3a3b3b23705",
      "metadata": {
        "id": "1c7fe2d0-0a94-4524-b9df-e3a3b3b23705"
      },
      "outputs": [],
      "source": [
        "features_train, features_test, labels_train, labels_test = train_test_split(\n",
        "    features,\n",
        "    labels,\n",
        "    test_size = 0.2,\n",
        "    random_state = 100\n",
        ")"
      ]
    },
    {
      "cell_type": "code",
      "execution_count": 27,
      "id": "673f84b8-1c39-4300-b4cf-acc95cc9d27d",
      "metadata": {
        "colab": {
          "base_uri": "https://localhost:8080/"
        },
        "id": "673f84b8-1c39-4300-b4cf-acc95cc9d27d",
        "outputId": "8de389f2-0e2b-49be-fe87-a40a416bb419"
      },
      "outputs": [
        {
          "output_type": "stream",
          "name": "stdout",
          "text": [
            "(1249, 22)\n",
            "(313, 22)\n"
          ]
        }
      ],
      "source": [
        "print(features_train.shape)\n",
        "print(features_test.shape)"
      ]
    },
    {
      "cell_type": "code",
      "execution_count": null,
      "id": "1c7f9543-0c4a-4fe6-ba42-2605d797bb94",
      "metadata": {
        "id": "1c7f9543-0c4a-4fe6-ba42-2605d797bb94"
      },
      "outputs": [],
      "source": [
        "from xgboost import XGBRegressor\n",
        "\n",
        "def train_model(\n",
        "    features,\n",
        "    labels,\n",
        "    max_depth,\n",
        "    n_estimators,\n",
        "    learning_rate,\n",
        "    random_state,\n",
        "    enable_categorical\n",
        "):\n",
        "    model = XGBRegressor(\n",
        "        n_estimators = n_estimators,\n",
        "        max_depth = max_depth,\n",
        "        learning_rate = learning_rate,\n",
        "        random_state = random_state,\n",
        "        enable_categorical =True\n",
        "    ).fit(features, labels)\n",
        "\n",
        "    return model"
      ]
    },
    {
      "cell_type": "code",
      "execution_count": null,
      "id": "5f254c45-5ecd-4316-a83f-6396e9c5ad58",
      "metadata": {
        "id": "5f254c45-5ecd-4316-a83f-6396e9c5ad58"
      },
      "outputs": [],
      "source": [
        "model = train_model(\n",
        "    features = features_train,\n",
        "    labels = labels_train,\n",
        "    max_depth = 5,\n",
        "    n_estimators = 100,\n",
        "    learning_rate = 1e-4,\n",
        "    random_state = 0,\n",
        "    enable_categorical =True\n",
        ")"
      ]
    },
    {
      "cell_type": "code",
      "execution_count": null,
      "id": "e0f77303-6049-4e57-b58c-83e9496b0b23",
      "metadata": {
        "id": "e0f77303-6049-4e57-b58c-83e9496b0b23",
        "outputId": "4b9652ea-6681-432d-815c-d987bd9f76d3"
      },
      "outputs": [
        {
          "data": {
            "text/plain": [
              "(0.9599954851324098, 1.3222272437971443)"
            ]
          },
          "execution_count": 151,
          "metadata": {},
          "output_type": "execute_result"
        }
      ],
      "source": [
        "\n",
        "\n",
        "preprocessor = make_column_transformer((OneHotEncoder(), ['Sortname', 'Location']), remainder='passthrough' )\n",
        "pipeline = make_pipeline(preprocessor,  LinearRegression())\n",
        "pipeline.fit(features_train, labels_train)\n",
        "y_pred = pipeline.predict(features_test)\n",
        "score = pipeline.score(features_test, labels_test)\n",
        "BR_loss = mean_squared_error(labels_test, y_pred)\n",
        "score, BR_loss"
      ]
    },
    {
      "cell_type": "code",
      "execution_count": null,
      "id": "40a22aa2-5bef-47b0-9f51-3b1a36757d8c",
      "metadata": {
        "id": "40a22aa2-5bef-47b0-9f51-3b1a36757d8c",
        "outputId": "70c7f20c-bfac-487b-df25-51e37b5e84b1"
      },
      "outputs": [
        {
          "data": {
            "text/plain": [
              "(0.9628195041496845, 1.2288879071247514)"
            ]
          },
          "execution_count": 152,
          "metadata": {},
          "output_type": "execute_result"
        }
      ],
      "source": [
        "preprocessor = make_column_transformer((OneHotEncoder(), ['Sortname', 'Location']), remainder='passthrough' )\n",
        "pipeline = make_pipeline(preprocessor,  GradientBoostingRegressor(random_state=42))\n",
        "pipeline.fit(features_train, labels_train)\n",
        "y_pred = pipeline.predict(features_test)\n",
        "score = pipeline.score(features_test, labels_test)\n",
        "BR_loss = mean_squared_error(labels_test, y_pred)\n",
        "score, BR_loss"
      ]
    },
    {
      "cell_type": "code",
      "execution_count": null,
      "id": "12697559-300d-49c1-a082-5554c2c1e680",
      "metadata": {
        "id": "12697559-300d-49c1-a082-5554c2c1e680",
        "outputId": "79a97945-19a4-4c7c-8459-820545ed490b"
      },
      "outputs": [
        {
          "data": {
            "text/plain": [
              "(0.9630105478040647, 1.2225735417234427)"
            ]
          },
          "execution_count": 153,
          "metadata": {},
          "output_type": "execute_result"
        }
      ],
      "source": [
        "preprocessor = make_column_transformer((OneHotEncoder(), ['Sortname', 'Location']), remainder='passthrough' )\n",
        "pipeline = make_pipeline(preprocessor,  RandomForestRegressor(random_state=42))\n",
        "pipeline.fit(features_train, labels_train)\n",
        "y_pred = pipeline.predict(features_test)\n",
        "score = pipeline.score(features_test, labels_test)\n",
        "BR_loss = mean_squared_error(labels_test, y_pred)\n",
        "score, BR_loss"
      ]
    },
    {
      "cell_type": "code",
      "source": [
        "def train_model(features, labels, model):#params\n",
        "\n",
        "  preprocessor = make_column_transformer((OneHotEncoder(), ['Sortname', 'Location']), remainder='passthrough' )\n",
        "  pipeline = make_pipeline(preprocessor,  model)\n",
        "  pipeline.fit(features, labels)\n",
        "\n",
        "  return pipeline\n",
        "\n",
        "def eval_model(pipeline, features, labels):\n",
        "  y_pred = pipeline.predict(features)\n",
        "\n",
        "  score = pipeline.score(features, labels)\n",
        "  mae = mean_squared_error(labels, y_pred)\n",
        "  return score, mae"
      ],
      "metadata": {
        "id": "-zRrL08I5AtJ"
      },
      "id": "-zRrL08I5AtJ",
      "execution_count": 32,
      "outputs": []
    },
    {
      "cell_type": "code",
      "source": [
        "def mlflow_run(\n",
        "    features_train,\n",
        "    labels_train,\n",
        "    features_test,\n",
        "    labels_test,\n",
        "    model,\n",
        "    #params,\n",
        "    exp,\n",
        "    run_name\n",
        "    ):\n",
        "    ### ESCRIBA SU CÓDIGO AQUÍ ###\n",
        "    run = mlflow.start_run(run_name=run_name, experiment_id = exp)\n",
        "\n",
        "    model = train_model(\n",
        "        features=features_train,\n",
        "        labels=labels_train,\n",
        "        model = model,\n",
        "        #params = params\n",
        "        )\n",
        "\n",
        "    score, mae = eval_model(model, features_test, labels_test)\n",
        "\n",
        "    mlflow.log_params({\n",
        "      #params\n",
        "    })\n",
        "\n",
        "    mlflow.sklearn.log_model(model, \"model\")\n",
        "    mlflow.log_param(\"run_name\", run_name)\n",
        "\n",
        "    mlflow.log_metrics({\n",
        "        \"score\": score,\n",
        "        \"mae\" : mae })\n",
        "    mlflow.end_run()\n",
        "\n",
        "    return run, score, mae"
      ],
      "metadata": {
        "id": "41Ii3Mfv4WuZ"
      },
      "id": "41Ii3Mfv4WuZ",
      "execution_count": 41,
      "outputs": []
    },
    {
      "cell_type": "code",
      "source": [
        "def mlflow_run_2(\n",
        "    features_train,\n",
        "    labels_train,\n",
        "    features_test,\n",
        "    labels_test,\n",
        "    model,\n",
        "    #params,\n",
        "    exp,\n",
        "    run_name\n",
        "    ):\n",
        "    ### ESCRIBA SU CÓDIGO AQUÍ ###\n",
        "    run = mlflow.start_run(run_name=run_name, experiment_id = exp)\n",
        "\n",
        "    model = train_model(\n",
        "        features=features_train,\n",
        "        labels=labels_train,\n",
        "        model = model,\n",
        "        #params = params\n",
        "        )\n",
        "\n",
        "    score, mae = eval_model(model, features_test, labels_test)\n",
        "\n",
        "    mlflow.sklearn.log_model(model, \"model\")\n",
        "    mlflow.log_param(\"run_name\", run_name)\n",
        "\n",
        "    mlflow.log_metrics({\n",
        "        \"score\": score,\n",
        "        \"mae\" : mae })\n",
        "    mlflow.end_run()\n",
        "\n",
        "    return run, score, mae"
      ],
      "metadata": {
        "id": "vjbxYSXqEqmT"
      },
      "id": "vjbxYSXqEqmT",
      "execution_count": 49,
      "outputs": []
    },
    {
      "cell_type": "code",
      "source": [
        "mlflow.end_run()"
      ],
      "metadata": {
        "id": "2CDuYXn6BO30"
      },
      "id": "2CDuYXn6BO30",
      "execution_count": 50,
      "outputs": []
    },
    {
      "cell_type": "code",
      "execution_count": 42,
      "id": "3a39d4de-834f-4172-afd5-3b03d0b47c4c",
      "metadata": {
        "colab": {
          "base_uri": "https://localhost:8080/"
        },
        "id": "3a39d4de-834f-4172-afd5-3b03d0b47c4c",
        "outputId": "d24c5159-1f8b-4dc5-e47b-a6745abae2f4"
      },
      "outputs": [
        {
          "output_type": "stream",
          "name": "stdout",
          "text": [
            "Base_LinearRegressor\n",
            "['model']\n",
            "0.9599951588516586\n",
            "1.3222380280123711\n"
          ]
        }
      ],
      "source": [
        "model = LinearRegression()\n",
        "\n",
        "run, score, mae = mlflow_run(\n",
        "        features_train,\n",
        "        labels_train,\n",
        "        features_test,\n",
        "        labels_test,\n",
        "        model,\n",
        "        #params,\n",
        "        exp=exp_id,\n",
        "        run_name=\"Base_LinearRegressor\"\n",
        "        )\n",
        "print(run.info.run_name)\n",
        "print(os.listdir(run.info.artifact_uri))\n",
        "print(score)\n",
        "print(mae)"
      ]
    },
    {
      "cell_type": "code",
      "source": [
        "def objective(trial):\n",
        "    ### ESCRIBA SU CÓDIGO AQUÍ ###\n",
        "    max_depth = trial.suggest_int(\"max_depth\", 2, 10)\n",
        "    n_estimators = trial.suggest_int(\"n_estimators\", 25, 200)\n",
        "    learning_rate = trial.suggest_float(\"learning_rate\", 1e-6, 1, log=True)\n",
        "\n",
        "    _, score, mae = mlflow_run_2(\n",
        "        features_train=features_train,\n",
        "        labels_train=labels_train,\n",
        "        features_test=features_test,\n",
        "        labels_test=labels_test,\n",
        "        model=GradientBoostingRegressor(\n",
        "            max_depth=max_depth,\n",
        "            n_estimators=n_estimators,\n",
        "            learning_rate=learning_rate,\n",
        "            random_state=42,\n",
        "        ),\n",
        "        exp=exp_id,\n",
        "        run_name=\"optuna\",\n",
        "    )\n",
        "    return score"
      ],
      "metadata": {
        "id": "qvi5f__-DULf"
      },
      "id": "qvi5f__-DULf",
      "execution_count": 51,
      "outputs": []
    },
    {
      "cell_type": "code",
      "source": [
        "import optuna\n",
        "\n",
        "study = optuna.create_study(\n",
        "    direction=\"maximize\",\n",
        "    storage=\"sqlite:///hp.db\",\n",
        "    study_name=\"PS_1D\",\n",
        "    load_if_exists=True\n",
        "    )\n",
        "study.optimize(func=objective, n_trials=30, n_jobs=1)"
      ],
      "metadata": {
        "colab": {
          "base_uri": "https://localhost:8080/"
        },
        "id": "alWVm7H4F5pf",
        "outputId": "4f29d0b7-267d-40ac-b8b7-8a8724ca107b"
      },
      "id": "alWVm7H4F5pf",
      "execution_count": 52,
      "outputs": [
        {
          "output_type": "stream",
          "name": "stderr",
          "text": [
            "[I 2023-12-06 03:09:55,251] Using an existing study with name 'PS_1D' instead of creating a new one.\n",
            "[I 2023-12-06 03:10:02,140] Trial 1 finished with value: 0.9617317890925069 and parameters: {'max_depth': 5, 'n_estimators': 166, 'learning_rate': 0.13815379330653027}. Best is trial 1 with value: 0.9617317890925069.\n",
            "[I 2023-12-06 03:10:06,325] Trial 2 finished with value: 0.960607762296443 and parameters: {'max_depth': 2, 'n_estimators': 156, 'learning_rate': 0.2880310887502577}. Best is trial 1 with value: 0.9617317890925069.\n",
            "[I 2023-12-06 03:10:11,603] Trial 3 finished with value: 0.0020557077257901124 and parameters: {'max_depth': 9, 'n_estimators': 103, 'learning_rate': 1.8791773727539863e-05}. Best is trial 1 with value: 0.9617317890925069.\n",
            "[I 2023-12-06 03:10:17,811] Trial 4 finished with value: 0.9534211083983708 and parameters: {'max_depth': 3, 'n_estimators': 180, 'learning_rate': 0.5576484781936003}. Best is trial 1 with value: 0.9617317890925069.\n",
            "[I 2023-12-06 03:10:21,414] Trial 5 finished with value: 0.10414893318048124 and parameters: {'max_depth': 3, 'n_estimators': 38, 'learning_rate': 0.001554282504175528}. Best is trial 1 with value: 0.9617317890925069.\n",
            "[I 2023-12-06 03:10:26,380] Trial 6 finished with value: 0.0014094692992618896 and parameters: {'max_depth': 5, 'n_estimators': 127, 'learning_rate': 1.2575054630111592e-05}. Best is trial 1 with value: 0.9617317890925069.\n",
            "[I 2023-12-06 03:10:32,076] Trial 7 finished with value: 0.0036991893127694686 and parameters: {'max_depth': 2, 'n_estimators': 62, 'learning_rate': 4.624600757166895e-05}. Best is trial 1 with value: 0.9617317890925069.\n",
            "[I 2023-12-06 03:10:36,700] Trial 8 finished with value: -0.0012435273788722334 and parameters: {'max_depth': 4, 'n_estimators': 114, 'learning_rate': 1.913886755547697e-06}. Best is trial 1 with value: 0.9617317890925069.\n",
            "[I 2023-12-06 03:10:40,885] Trial 9 finished with value: 0.6743583119752139 and parameters: {'max_depth': 2, 'n_estimators': 160, 'learning_rate': 0.003974502396048197}. Best is trial 1 with value: 0.9617317890925069.\n",
            "[I 2023-12-06 03:10:47,410] Trial 10 finished with value: 0.6245274029991552 and parameters: {'max_depth': 5, 'n_estimators': 140, 'learning_rate': 0.0037476901438956733}. Best is trial 1 with value: 0.9617317890925069.\n",
            "[I 2023-12-06 03:10:54,237] Trial 11 finished with value: 0.9595253388192102 and parameters: {'max_depth': 8, 'n_estimators': 193, 'learning_rate': 0.0535618217677211}. Best is trial 1 with value: 0.9617317890925069.\n",
            "[I 2023-12-06 03:11:01,478] Trial 12 finished with value: 0.9331724941337135 and parameters: {'max_depth': 7, 'n_estimators': 159, 'learning_rate': 0.882989400552567}. Best is trial 1 with value: 0.9617317890925069.\n",
            "[I 2023-12-06 03:11:07,341] Trial 13 finished with value: 0.9610665016507031 and parameters: {'max_depth': 7, 'n_estimators': 162, 'learning_rate': 0.0430294017763445}. Best is trial 1 with value: 0.9617317890925069.\n",
            "[I 2023-12-06 03:11:11,925] Trial 14 finished with value: 0.9629448251919007 and parameters: {'max_depth': 6, 'n_estimators': 84, 'learning_rate': 0.04698794552459434}. Best is trial 14 with value: 0.9629448251919007.\n",
            "[I 2023-12-06 03:11:17,432] Trial 15 finished with value: 0.9562887456010082 and parameters: {'max_depth': 6, 'n_estimators': 81, 'learning_rate': 0.031063388320664742}. Best is trial 14 with value: 0.9629448251919007.\n",
            "[I 2023-12-06 03:11:22,610] Trial 16 finished with value: 0.95287194237086 and parameters: {'max_depth': 10, 'n_estimators': 88, 'learning_rate': 0.11214799431832882}. Best is trial 14 with value: 0.9629448251919007.\n",
            "[I 2023-12-06 03:11:26,761] Trial 17 finished with value: 0.6217217018243535 and parameters: {'max_depth': 6, 'n_estimators': 54, 'learning_rate': 0.009572058713286218}. Best is trial 14 with value: 0.9629448251919007.\n",
            "[I 2023-12-06 03:11:31,972] Trial 18 finished with value: 0.09003392671215982 and parameters: {'max_depth': 5, 'n_estimators': 83, 'learning_rate': 0.0006023171001959906}. Best is trial 14 with value: 0.9629448251919007.\n",
            "[I 2023-12-06 03:11:35,751] Trial 19 finished with value: 0.9611130781365788 and parameters: {'max_depth': 7, 'n_estimators': 27, 'learning_rate': 0.13325532600642898}. Best is trial 14 with value: 0.9629448251919007.\n",
            "[I 2023-12-06 03:11:40,180] Trial 20 finished with value: 0.958207272543613 and parameters: {'max_depth': 4, 'n_estimators': 110, 'learning_rate': 0.27237471771892213}. Best is trial 14 with value: 0.9629448251919007.\n",
            "[I 2023-12-06 03:11:46,978] Trial 21 finished with value: 0.9307299840523005 and parameters: {'max_depth': 8, 'n_estimators': 133, 'learning_rate': 0.9648190517982436}. Best is trial 14 with value: 0.9629448251919007.\n",
            "[I 2023-12-06 03:11:50,798] Trial 22 finished with value: 0.9614954206833183 and parameters: {'max_depth': 7, 'n_estimators': 31, 'learning_rate': 0.13035208067992102}. Best is trial 14 with value: 0.9629448251919007.\n",
            "[I 2023-12-06 03:11:55,010] Trial 23 finished with value: 0.8263767568244651 and parameters: {'max_depth': 6, 'n_estimators': 62, 'learning_rate': 0.015655270281432522}. Best is trial 14 with value: 0.9629448251919007.\n",
            "[I 2023-12-06 03:12:00,367] Trial 24 finished with value: 0.9599378260074819 and parameters: {'max_depth': 8, 'n_estimators': 40, 'learning_rate': 0.11333132406064508}. Best is trial 14 with value: 0.9629448251919007.\n",
            "[I 2023-12-06 03:12:05,893] Trial 25 finished with value: 0.9380251521782873 and parameters: {'max_depth': 6, 'n_estimators': 74, 'learning_rate': 0.024873728671639683}. Best is trial 14 with value: 0.9629448251919007.\n",
            "[I 2023-12-06 03:12:10,140] Trial 26 finished with value: 0.960528597691553 and parameters: {'max_depth': 4, 'n_estimators': 94, 'learning_rate': 0.2915636976087903}. Best is trial 14 with value: 0.9629448251919007.\n",
            "[I 2023-12-06 03:12:17,610] Trial 27 finished with value: 0.9627210177485183 and parameters: {'max_depth': 7, 'n_estimators': 179, 'learning_rate': 0.05329583860747226}. Best is trial 14 with value: 0.9629448251919007.\n",
            "[I 2023-12-06 03:12:23,209] Trial 28 finished with value: 0.9516853390596969 and parameters: {'max_depth': 5, 'n_estimators': 192, 'learning_rate': 0.011678525853507057}. Best is trial 14 with value: 0.9629448251919007.\n",
            "[I 2023-12-06 03:12:31,601] Trial 29 finished with value: 0.9580082544469305 and parameters: {'max_depth': 9, 'n_estimators': 174, 'learning_rate': 0.038555308618775395}. Best is trial 14 with value: 0.9629448251919007.\n",
            "[I 2023-12-06 03:12:36,957] Trial 30 finished with value: 0.9575444788206517 and parameters: {'max_depth': 6, 'n_estimators': 144, 'learning_rate': 0.24186895679745754}. Best is trial 14 with value: 0.9629448251919007.\n"
          ]
        }
      ]
    }
  ],
  "metadata": {
    "kernelspec": {
      "display_name": "Python 3 (ipykernel)",
      "language": "python",
      "name": "python3"
    },
    "language_info": {
      "codemirror_mode": {
        "name": "ipython",
        "version": 3
      },
      "file_extension": ".py",
      "mimetype": "text/x-python",
      "name": "python",
      "nbconvert_exporter": "python",
      "pygments_lexer": "ipython3",
      "version": "3.10.12"
    },
    "colab": {
      "provenance": []
    }
  },
  "nbformat": 4,
  "nbformat_minor": 5
}